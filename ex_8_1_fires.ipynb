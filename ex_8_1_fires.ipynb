{
  "cells": [
    {
      "cell_type": "markdown",
      "metadata": {
        "id": "930Ruj8vlGPO"
      },
      "source": [
        "# Exercise 8-1: Analyze the Forest Fires data"
      ]
    },
    {
      "cell_type": "markdown",
      "metadata": {
        "id": "kwaY2Ui2lGPX"
      },
      "source": [
        "Your name:\n",
        "Date:\n",
        "Summer 2022 Data Mining UNC Charlotte"
      ]
    },
    {
      "cell_type": "code",
      "execution_count": 1,
      "metadata": {
        "colab": {
          "base_uri": "https://localhost:8080/"
        },
        "id": "qGPW-ALalGPZ",
        "outputId": "fdb34f22-210f-452e-e753-12c2d339cfbb"
      },
      "outputs": [
        {
          "output_type": "stream",
          "name": "stdout",
          "text": [
            "Collecting pickle5\n",
            "  Downloading pickle5-0.0.12-cp37-cp37m-manylinux_2_5_x86_64.manylinux1_x86_64.whl (256 kB)\n",
            "\u001b[K     |████████████████████████████████| 256 kB 5.0 MB/s \n",
            "\u001b[?25hInstalling collected packages: pickle5\n",
            "Successfully installed pickle5-0.0.12\n"
          ]
        }
      ],
      "source": [
        "# make sure pickle5 is installed, this gets complicated\n",
        "# as some pickle versions are not backward compatible\n",
        "!pip install pickle5"
      ]
    },
    {
      "cell_type": "code",
      "execution_count": 2,
      "metadata": {
        "id": "kSLANf17lGPc"
      },
      "outputs": [],
      "source": [
        "import pickle5 as pickle"
      ]
    },
    {
      "cell_type": "markdown",
      "metadata": {
        "id": "gqGFFL_glGPd"
      },
      "source": [
        "## Read the data"
      ]
    },
    {
      "cell_type": "code",
      "execution_count": 3,
      "metadata": {
        "id": "victqSLPlGPe"
      },
      "outputs": [],
      "source": [
        "import pandas as pd"
      ]
    },
    {
      "cell_type": "markdown",
      "metadata": {
        "id": "eOysBklilGPf"
      },
      "source": [
        "#### Upload the pickle file before executing the next code cell!"
      ]
    },
    {
      "cell_type": "code",
      "execution_count": null,
      "metadata": {
        "id": "Z02I8up3lGPh"
      },
      "outputs": [],
      "source": [
        "# upload using folder in colab or\n",
        "# upload the file you want - here we will first select fires_by_month.pkl\n",
        "from google.colab import files\n",
        "uploaded = files.upload()"
      ]
    },
    {
      "cell_type": "code",
      "execution_count": 4,
      "metadata": {
        "id": "10Yp03Q8lGPi"
      },
      "outputs": [],
      "source": [
        "# Read the data from the file - using fires_cleaned, this may take a few minutes due to large file\n",
        "# the result will be a dataframe\n",
        "with open('fires_by_month.pkl', 'rb') as fid:\n",
        "     fires_by_month = pickle.load(fid)"
      ]
    },
    {
      "cell_type": "code",
      "source": [
        ""
      ],
      "metadata": {
        "id": "ZnF0k9Rsloef"
      },
      "execution_count": null,
      "outputs": []
    },
    {
      "cell_type": "code",
      "execution_count": 5,
      "metadata": {
        "id": "FN0e_ylNlGPk"
      },
      "outputs": [],
      "source": [
        "# fires_by_month = pd.read_pickle('fires_by_month.pkl')"
      ]
    },
    {
      "cell_type": "code",
      "execution_count": 6,
      "metadata": {
        "colab": {
          "base_uri": "https://localhost:8080/",
          "height": 206
        },
        "id": "Z_rrrPJ2lGPl",
        "outputId": "ea483e93-30c4-4d22-f4ff-3411feb1cfcb"
      },
      "outputs": [
        {
          "output_type": "execute_result",
          "data": {
            "text/html": [
              "\n",
              "  <div id=\"df-aa1da74b-8b5f-41f0-8e86-39b5224eff47\">\n",
              "    <div class=\"colab-df-container\">\n",
              "      <div>\n",
              "<style scoped>\n",
              "    .dataframe tbody tr th:only-of-type {\n",
              "        vertical-align: middle;\n",
              "    }\n",
              "\n",
              "    .dataframe tbody tr th {\n",
              "        vertical-align: top;\n",
              "    }\n",
              "\n",
              "    .dataframe thead th {\n",
              "        text-align: right;\n",
              "    }\n",
              "</style>\n",
              "<table border=\"1\" class=\"dataframe\">\n",
              "  <thead>\n",
              "    <tr style=\"text-align: right;\">\n",
              "      <th></th>\n",
              "      <th>state</th>\n",
              "      <th>fire_year</th>\n",
              "      <th>fire_month</th>\n",
              "      <th>acres_burned</th>\n",
              "      <th>days_burning</th>\n",
              "      <th>fire_count</th>\n",
              "    </tr>\n",
              "  </thead>\n",
              "  <tbody>\n",
              "    <tr>\n",
              "      <th>0</th>\n",
              "      <td>AK</td>\n",
              "      <td>1992</td>\n",
              "      <td>5</td>\n",
              "      <td>4202.0</td>\n",
              "      <td>135.0</td>\n",
              "      <td>14</td>\n",
              "    </tr>\n",
              "    <tr>\n",
              "      <th>1</th>\n",
              "      <td>AK</td>\n",
              "      <td>1992</td>\n",
              "      <td>6</td>\n",
              "      <td>86401.0</td>\n",
              "      <td>417.0</td>\n",
              "      <td>23</td>\n",
              "    </tr>\n",
              "    <tr>\n",
              "      <th>2</th>\n",
              "      <td>AK</td>\n",
              "      <td>1992</td>\n",
              "      <td>7</td>\n",
              "      <td>48516.7</td>\n",
              "      <td>500.0</td>\n",
              "      <td>26</td>\n",
              "    </tr>\n",
              "    <tr>\n",
              "      <th>3</th>\n",
              "      <td>AK</td>\n",
              "      <td>1992</td>\n",
              "      <td>8</td>\n",
              "      <td>3305.0</td>\n",
              "      <td>92.0</td>\n",
              "      <td>4</td>\n",
              "    </tr>\n",
              "    <tr>\n",
              "      <th>4</th>\n",
              "      <td>AK</td>\n",
              "      <td>1992</td>\n",
              "      <td>9</td>\n",
              "      <td>20.0</td>\n",
              "      <td>1.0</td>\n",
              "      <td>1</td>\n",
              "    </tr>\n",
              "  </tbody>\n",
              "</table>\n",
              "</div>\n",
              "      <button class=\"colab-df-convert\" onclick=\"convertToInteractive('df-aa1da74b-8b5f-41f0-8e86-39b5224eff47')\"\n",
              "              title=\"Convert this dataframe to an interactive table.\"\n",
              "              style=\"display:none;\">\n",
              "        \n",
              "  <svg xmlns=\"http://www.w3.org/2000/svg\" height=\"24px\"viewBox=\"0 0 24 24\"\n",
              "       width=\"24px\">\n",
              "    <path d=\"M0 0h24v24H0V0z\" fill=\"none\"/>\n",
              "    <path d=\"M18.56 5.44l.94 2.06.94-2.06 2.06-.94-2.06-.94-.94-2.06-.94 2.06-2.06.94zm-11 1L8.5 8.5l.94-2.06 2.06-.94-2.06-.94L8.5 2.5l-.94 2.06-2.06.94zm10 10l.94 2.06.94-2.06 2.06-.94-2.06-.94-.94-2.06-.94 2.06-2.06.94z\"/><path d=\"M17.41 7.96l-1.37-1.37c-.4-.4-.92-.59-1.43-.59-.52 0-1.04.2-1.43.59L10.3 9.45l-7.72 7.72c-.78.78-.78 2.05 0 2.83L4 21.41c.39.39.9.59 1.41.59.51 0 1.02-.2 1.41-.59l7.78-7.78 2.81-2.81c.8-.78.8-2.07 0-2.86zM5.41 20L4 18.59l7.72-7.72 1.47 1.35L5.41 20z\"/>\n",
              "  </svg>\n",
              "      </button>\n",
              "      \n",
              "  <style>\n",
              "    .colab-df-container {\n",
              "      display:flex;\n",
              "      flex-wrap:wrap;\n",
              "      gap: 12px;\n",
              "    }\n",
              "\n",
              "    .colab-df-convert {\n",
              "      background-color: #E8F0FE;\n",
              "      border: none;\n",
              "      border-radius: 50%;\n",
              "      cursor: pointer;\n",
              "      display: none;\n",
              "      fill: #1967D2;\n",
              "      height: 32px;\n",
              "      padding: 0 0 0 0;\n",
              "      width: 32px;\n",
              "    }\n",
              "\n",
              "    .colab-df-convert:hover {\n",
              "      background-color: #E2EBFA;\n",
              "      box-shadow: 0px 1px 2px rgba(60, 64, 67, 0.3), 0px 1px 3px 1px rgba(60, 64, 67, 0.15);\n",
              "      fill: #174EA6;\n",
              "    }\n",
              "\n",
              "    [theme=dark] .colab-df-convert {\n",
              "      background-color: #3B4455;\n",
              "      fill: #D2E3FC;\n",
              "    }\n",
              "\n",
              "    [theme=dark] .colab-df-convert:hover {\n",
              "      background-color: #434B5C;\n",
              "      box-shadow: 0px 1px 3px 1px rgba(0, 0, 0, 0.15);\n",
              "      filter: drop-shadow(0px 1px 2px rgba(0, 0, 0, 0.3));\n",
              "      fill: #FFFFFF;\n",
              "    }\n",
              "  </style>\n",
              "\n",
              "      <script>\n",
              "        const buttonEl =\n",
              "          document.querySelector('#df-aa1da74b-8b5f-41f0-8e86-39b5224eff47 button.colab-df-convert');\n",
              "        buttonEl.style.display =\n",
              "          google.colab.kernel.accessAllowed ? 'block' : 'none';\n",
              "\n",
              "        async function convertToInteractive(key) {\n",
              "          const element = document.querySelector('#df-aa1da74b-8b5f-41f0-8e86-39b5224eff47');\n",
              "          const dataTable =\n",
              "            await google.colab.kernel.invokeFunction('convertToInteractive',\n",
              "                                                     [key], {});\n",
              "          if (!dataTable) return;\n",
              "\n",
              "          const docLinkHtml = 'Like what you see? Visit the ' +\n",
              "            '<a target=\"_blank\" href=https://colab.research.google.com/notebooks/data_table.ipynb>data table notebook</a>'\n",
              "            + ' to learn more about interactive tables.';\n",
              "          element.innerHTML = '';\n",
              "          dataTable['output_type'] = 'display_data';\n",
              "          await google.colab.output.renderOutput(dataTable, element);\n",
              "          const docLink = document.createElement('div');\n",
              "          docLink.innerHTML = docLinkHtml;\n",
              "          element.appendChild(docLink);\n",
              "        }\n",
              "      </script>\n",
              "    </div>\n",
              "  </div>\n",
              "  "
            ],
            "text/plain": [
              "  state  fire_year  fire_month  acres_burned  days_burning  fire_count\n",
              "0    AK       1992           5        4202.0         135.0          14\n",
              "1    AK       1992           6       86401.0         417.0          23\n",
              "2    AK       1992           7       48516.7         500.0          26\n",
              "3    AK       1992           8        3305.0          92.0           4\n",
              "4    AK       1992           9          20.0           1.0           1"
            ]
          },
          "metadata": {},
          "execution_count": 6
        }
      ],
      "source": [
        "# display the first five rows\n",
        "fires_by_month.head()"
      ]
    },
    {
      "cell_type": "code",
      "source": [
        "# display file info\n",
        "fires_by_month.info()"
      ],
      "metadata": {
        "colab": {
          "base_uri": "https://localhost:8080/"
        },
        "id": "OWftVbIxlwPP",
        "outputId": "2a84220a-0a92-4742-ad0a-12df38c102d4"
      },
      "execution_count": 7,
      "outputs": [
        {
          "output_type": "stream",
          "name": "stdout",
          "text": [
            "<class 'pandas.core.frame.DataFrame'>\n",
            "RangeIndex: 9300 entries, 0 to 9299\n",
            "Data columns (total 6 columns):\n",
            " #   Column        Non-Null Count  Dtype   \n",
            "---  ------        --------------  -----   \n",
            " 0   state         9300 non-null   category\n",
            " 1   fire_year     9300 non-null   int64   \n",
            " 2   fire_month    9300 non-null   int64   \n",
            " 3   acres_burned  9300 non-null   float64 \n",
            " 4   days_burning  9300 non-null   float64 \n",
            " 5   fire_count    9300 non-null   int64   \n",
            "dtypes: category(1), float64(2), int64(3)\n",
            "memory usage: 372.9 KB\n"
          ]
        }
      ]
    },
    {
      "cell_type": "markdown",
      "metadata": {
        "id": "4Fn7m61nlGPm"
      },
      "source": [
        "## Group and aggregate the data"
      ]
    },
    {
      "cell_type": "code",
      "execution_count": null,
      "metadata": {
        "id": "rmAWEySMlGPn"
      },
      "outputs": [],
      "source": [
        "# group the data by state and year"
      ]
    },
    {
      "cell_type": "code",
      "execution_count": null,
      "metadata": {
        "id": "IK8ZhooolGPo"
      },
      "outputs": [],
      "source": [
        "# sum the grouped data and store DataFrame in fires_by_year variable"
      ]
    },
    {
      "cell_type": "code",
      "execution_count": null,
      "metadata": {
        "id": "R2FOCrDllGPp"
      },
      "outputs": [],
      "source": [
        "# drop the fire_month column"
      ]
    },
    {
      "cell_type": "markdown",
      "metadata": {
        "id": "EGSXaJgclGPp"
      },
      "source": [
        "## Use pivot tables"
      ]
    },
    {
      "cell_type": "code",
      "execution_count": null,
      "metadata": {
        "id": "iEAuIl4OlGPq"
      },
      "outputs": [],
      "source": [
        "# select rows where the year is 2013 or later"
      ]
    },
    {
      "cell_type": "code",
      "execution_count": null,
      "metadata": {
        "id": "snuS5EXalGPr"
      },
      "outputs": [],
      "source": [
        "# use the pivot() method to pivot the data so the state values are used as row labels, \n",
        "# fire_year values are used as column labels, and acres_burned values are used as data"
      ]
    },
    {
      "cell_type": "code",
      "execution_count": null,
      "metadata": {
        "id": "7WlOYONLlGPs"
      },
      "outputs": [],
      "source": [
        "# use the pivot_table() method with the fires_by_month DataFrame to get the same result\n",
        "# as the previous cell"
      ]
    },
    {
      "cell_type": "markdown",
      "metadata": {
        "id": "XgehQz_wlGPt"
      },
      "source": [
        "## Work with bins"
      ]
    },
    {
      "cell_type": "code",
      "execution_count": null,
      "metadata": {
        "id": "HOf_eXzolGPt"
      },
      "outputs": [],
      "source": [
        "# reset the index for the DataFrame named fires_by_year"
      ]
    },
    {
      "cell_type": "code",
      "execution_count": null,
      "metadata": {
        "id": "-sXQCZsNlGPt"
      },
      "outputs": [],
      "source": [
        "# bin the data by decade"
      ]
    },
    {
      "cell_type": "code",
      "execution_count": null,
      "metadata": {
        "id": "7_N7HIL9lGPu"
      },
      "outputs": [],
      "source": [
        "# double-check the edge values"
      ]
    },
    {
      "cell_type": "code",
      "execution_count": null,
      "metadata": {
        "id": "6QvG3rCXlGPv"
      },
      "outputs": [],
      "source": [
        "# drop the fire_year column and assign the DataFrame that's returned to a variable named fires_by_decade"
      ]
    },
    {
      "cell_type": "code",
      "execution_count": null,
      "metadata": {
        "id": "S_DPbaLblGPv"
      },
      "outputs": [],
      "source": [
        "# group by the state and decade columns and sum the data"
      ]
    },
    {
      "cell_type": "code",
      "execution_count": null,
      "metadata": {
        "id": "MmJXMPodlGPv"
      },
      "outputs": [],
      "source": [
        ""
      ]
    }
  ],
  "metadata": {
    "kernelspec": {
      "display_name": "Python 3",
      "language": "python",
      "name": "python3"
    },
    "language_info": {
      "codemirror_mode": {
        "name": "ipython",
        "version": 3
      },
      "file_extension": ".py",
      "mimetype": "text/x-python",
      "name": "python",
      "nbconvert_exporter": "python",
      "pygments_lexer": "ipython3",
      "version": "3.6.5"
    },
    "colab": {
      "name": "ex_8-1_fires.ipynb",
      "provenance": []
    }
  },
  "nbformat": 4,
  "nbformat_minor": 0
}
