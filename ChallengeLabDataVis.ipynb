{
  "cells": [
    {
      "cell_type": "markdown",
      "metadata": {
        "id": "NwhJOozykbV_"
      },
      "source": [
        "# Challenge Exercise\n",
        "## Your Name(s)\n",
        "\n",
        "### Using the Boston Building and Property Violations Dataset showing a variety of code violations, perform exploratory data analysis and document what you learn. Some code has been entered for you.\n",
        "\n",
        "### To learn more about the metadata visit: <a href=\"https://data.boston.gov/dataset/building-and-property-violations1/resource/800a2663-1d6a-46e7-9356-bedb70f5332c\">Boston Building and Property Violations</a><br>"
      ]
    },
    {
      "cell_type": "code",
      "execution_count": 1,
      "metadata": {
        "id": "j-aUsNf4kbWG"
      },
      "outputs": [],
      "source": [
        "# import statements\n",
        "import pandas as pd\n",
        "import seaborn as sns\n"
      ]
    },
    {
      "cell_type": "code",
      "execution_count": 2,
      "metadata": {
        "id": "awR7ZLEkkbWI"
      },
      "outputs": [],
      "source": [
        "# create a variable to store the url for the data ingest\n",
        "urltodata = \"https://data.boston.gov/dataset/705244a6-70a6-4ff8-ab8e-56441aff18e7/resource/800a2663-1d6a-46e7-9356-bedb70f5332c/download/tmpfbdp9ex7.csv\""
      ]
    },
    {
      "cell_type": "code",
      "execution_count": 3,
      "metadata": {
        "id": "JvaZSSeMkbWI"
      },
      "outputs": [],
      "source": [
        "# read the data using the url into a pandas dataframe\n",
        "bostondata = pd.read_csv(urltodata)"
      ]
    },
    {
      "cell_type": "code",
      "execution_count": 4,
      "metadata": {
        "colab": {
          "base_uri": "https://localhost:8080/",
          "height": 438
        },
        "id": "A4MPrtxnkbWJ",
        "outputId": "19c8c866-88de-47fd-f6b1-ebb5a90846c8"
      },
      "outputs": [
        {
          "output_type": "execute_result",
          "data": {
            "text/plain": [
              "   case_no          status_dttm status   code  value  \\\n",
              "0  V620396  2022-07-07 15:14:23   Open    116    NaN   \n",
              "1  V620387  2022-07-07 13:26:13   Open  116.1    NaN   \n",
              "2  V620246  2022-07-06 11:46:02   Open    116    NaN   \n",
              "3  V620236  2022-07-06 11:28:15   Open  105.1    NaN   \n",
              "4  V620221  2022-07-06 10:46:20   Open  105.1    NaN   \n",
              "\n",
              "                description violation_stno violation_sthigh violation_street  \\\n",
              "0         Unsafe Structures           1112             1116         Boylston   \n",
              "1      Unsafe and Dangerous             83              NaN           Minden   \n",
              "2         Unsafe Structures             78              NaN         Houghton   \n",
              "3  Failure to Obtain Permit             78              NaN         Houghton   \n",
              "4  Failure to Obtain Permit             58               60           Hobson   \n",
              "\n",
              "  violation_suffix  ... ward          contact_addr1        contact_addr2  \\\n",
              "0               ST  ...   04  173 MASSACHUSETTS AVE  C/O ANTHONY STRAUSS   \n",
              "1               ST  ...   10       91 Minden Street                  NaN   \n",
              "2               ST  ...   16     78 HOUGHTON STREET                  NaN   \n",
              "3               ST  ...   16     78 HOUGHTON STREET                  NaN   \n",
              "4               ST  ...   22    60 58 HOBSON STREET                  NaN   \n",
              "\n",
              "    contact_city contact_state contact_zip sam_id   latitude  longitude  \\\n",
              "0         BOSTON            MA       02215  18057  42.346794 -71.088709   \n",
              "1  Jamaica Plain            MA       02130  96000  42.325172 -71.104944   \n",
              "2     DORCHESTER            MA       02122  75461  42.294190 -71.050350   \n",
              "3     DORCHESTER            MA       02122  75461  42.294190 -71.050350   \n",
              "4       BRIGHTON            MA       02135  74415  42.354530 -71.162110   \n",
              "\n",
              "                                   location  \n",
              "0   (42.34679399956983, -71.08870900131272)  \n",
              "1  (42.325172156256755, -71.10494425654622)  \n",
              "2   (42.29419000020042, -71.05035000117769)  \n",
              "3   (42.29419000020042, -71.05035000117769)  \n",
              "4   (42.35453000004628, -71.16211000158474)  \n",
              "\n",
              "[5 rows x 23 columns]"
            ],
            "text/html": [
              "\n",
              "  <div id=\"df-a7be3833-2a02-41f2-96df-183ea63648a7\">\n",
              "    <div class=\"colab-df-container\">\n",
              "      <div>\n",
              "<style scoped>\n",
              "    .dataframe tbody tr th:only-of-type {\n",
              "        vertical-align: middle;\n",
              "    }\n",
              "\n",
              "    .dataframe tbody tr th {\n",
              "        vertical-align: top;\n",
              "    }\n",
              "\n",
              "    .dataframe thead th {\n",
              "        text-align: right;\n",
              "    }\n",
              "</style>\n",
              "<table border=\"1\" class=\"dataframe\">\n",
              "  <thead>\n",
              "    <tr style=\"text-align: right;\">\n",
              "      <th></th>\n",
              "      <th>case_no</th>\n",
              "      <th>status_dttm</th>\n",
              "      <th>status</th>\n",
              "      <th>code</th>\n",
              "      <th>value</th>\n",
              "      <th>description</th>\n",
              "      <th>violation_stno</th>\n",
              "      <th>violation_sthigh</th>\n",
              "      <th>violation_street</th>\n",
              "      <th>violation_suffix</th>\n",
              "      <th>...</th>\n",
              "      <th>ward</th>\n",
              "      <th>contact_addr1</th>\n",
              "      <th>contact_addr2</th>\n",
              "      <th>contact_city</th>\n",
              "      <th>contact_state</th>\n",
              "      <th>contact_zip</th>\n",
              "      <th>sam_id</th>\n",
              "      <th>latitude</th>\n",
              "      <th>longitude</th>\n",
              "      <th>location</th>\n",
              "    </tr>\n",
              "  </thead>\n",
              "  <tbody>\n",
              "    <tr>\n",
              "      <th>0</th>\n",
              "      <td>V620396</td>\n",
              "      <td>2022-07-07 15:14:23</td>\n",
              "      <td>Open</td>\n",
              "      <td>116</td>\n",
              "      <td>NaN</td>\n",
              "      <td>Unsafe Structures</td>\n",
              "      <td>1112</td>\n",
              "      <td>1116</td>\n",
              "      <td>Boylston</td>\n",
              "      <td>ST</td>\n",
              "      <td>...</td>\n",
              "      <td>04</td>\n",
              "      <td>173 MASSACHUSETTS AVE</td>\n",
              "      <td>C/O ANTHONY STRAUSS</td>\n",
              "      <td>BOSTON</td>\n",
              "      <td>MA</td>\n",
              "      <td>02215</td>\n",
              "      <td>18057</td>\n",
              "      <td>42.346794</td>\n",
              "      <td>-71.088709</td>\n",
              "      <td>(42.34679399956983, -71.08870900131272)</td>\n",
              "    </tr>\n",
              "    <tr>\n",
              "      <th>1</th>\n",
              "      <td>V620387</td>\n",
              "      <td>2022-07-07 13:26:13</td>\n",
              "      <td>Open</td>\n",
              "      <td>116.1</td>\n",
              "      <td>NaN</td>\n",
              "      <td>Unsafe and Dangerous</td>\n",
              "      <td>83</td>\n",
              "      <td>NaN</td>\n",
              "      <td>Minden</td>\n",
              "      <td>ST</td>\n",
              "      <td>...</td>\n",
              "      <td>10</td>\n",
              "      <td>91 Minden Street</td>\n",
              "      <td>NaN</td>\n",
              "      <td>Jamaica Plain</td>\n",
              "      <td>MA</td>\n",
              "      <td>02130</td>\n",
              "      <td>96000</td>\n",
              "      <td>42.325172</td>\n",
              "      <td>-71.104944</td>\n",
              "      <td>(42.325172156256755, -71.10494425654622)</td>\n",
              "    </tr>\n",
              "    <tr>\n",
              "      <th>2</th>\n",
              "      <td>V620246</td>\n",
              "      <td>2022-07-06 11:46:02</td>\n",
              "      <td>Open</td>\n",
              "      <td>116</td>\n",
              "      <td>NaN</td>\n",
              "      <td>Unsafe Structures</td>\n",
              "      <td>78</td>\n",
              "      <td>NaN</td>\n",
              "      <td>Houghton</td>\n",
              "      <td>ST</td>\n",
              "      <td>...</td>\n",
              "      <td>16</td>\n",
              "      <td>78 HOUGHTON STREET</td>\n",
              "      <td>NaN</td>\n",
              "      <td>DORCHESTER</td>\n",
              "      <td>MA</td>\n",
              "      <td>02122</td>\n",
              "      <td>75461</td>\n",
              "      <td>42.294190</td>\n",
              "      <td>-71.050350</td>\n",
              "      <td>(42.29419000020042, -71.05035000117769)</td>\n",
              "    </tr>\n",
              "    <tr>\n",
              "      <th>3</th>\n",
              "      <td>V620236</td>\n",
              "      <td>2022-07-06 11:28:15</td>\n",
              "      <td>Open</td>\n",
              "      <td>105.1</td>\n",
              "      <td>NaN</td>\n",
              "      <td>Failure to Obtain Permit</td>\n",
              "      <td>78</td>\n",
              "      <td>NaN</td>\n",
              "      <td>Houghton</td>\n",
              "      <td>ST</td>\n",
              "      <td>...</td>\n",
              "      <td>16</td>\n",
              "      <td>78 HOUGHTON STREET</td>\n",
              "      <td>NaN</td>\n",
              "      <td>DORCHESTER</td>\n",
              "      <td>MA</td>\n",
              "      <td>02122</td>\n",
              "      <td>75461</td>\n",
              "      <td>42.294190</td>\n",
              "      <td>-71.050350</td>\n",
              "      <td>(42.29419000020042, -71.05035000117769)</td>\n",
              "    </tr>\n",
              "    <tr>\n",
              "      <th>4</th>\n",
              "      <td>V620221</td>\n",
              "      <td>2022-07-06 10:46:20</td>\n",
              "      <td>Open</td>\n",
              "      <td>105.1</td>\n",
              "      <td>NaN</td>\n",
              "      <td>Failure to Obtain Permit</td>\n",
              "      <td>58</td>\n",
              "      <td>60</td>\n",
              "      <td>Hobson</td>\n",
              "      <td>ST</td>\n",
              "      <td>...</td>\n",
              "      <td>22</td>\n",
              "      <td>60 58 HOBSON STREET</td>\n",
              "      <td>NaN</td>\n",
              "      <td>BRIGHTON</td>\n",
              "      <td>MA</td>\n",
              "      <td>02135</td>\n",
              "      <td>74415</td>\n",
              "      <td>42.354530</td>\n",
              "      <td>-71.162110</td>\n",
              "      <td>(42.35453000004628, -71.16211000158474)</td>\n",
              "    </tr>\n",
              "  </tbody>\n",
              "</table>\n",
              "<p>5 rows × 23 columns</p>\n",
              "</div>\n",
              "      <button class=\"colab-df-convert\" onclick=\"convertToInteractive('df-a7be3833-2a02-41f2-96df-183ea63648a7')\"\n",
              "              title=\"Convert this dataframe to an interactive table.\"\n",
              "              style=\"display:none;\">\n",
              "        \n",
              "  <svg xmlns=\"http://www.w3.org/2000/svg\" height=\"24px\"viewBox=\"0 0 24 24\"\n",
              "       width=\"24px\">\n",
              "    <path d=\"M0 0h24v24H0V0z\" fill=\"none\"/>\n",
              "    <path d=\"M18.56 5.44l.94 2.06.94-2.06 2.06-.94-2.06-.94-.94-2.06-.94 2.06-2.06.94zm-11 1L8.5 8.5l.94-2.06 2.06-.94-2.06-.94L8.5 2.5l-.94 2.06-2.06.94zm10 10l.94 2.06.94-2.06 2.06-.94-2.06-.94-.94-2.06-.94 2.06-2.06.94z\"/><path d=\"M17.41 7.96l-1.37-1.37c-.4-.4-.92-.59-1.43-.59-.52 0-1.04.2-1.43.59L10.3 9.45l-7.72 7.72c-.78.78-.78 2.05 0 2.83L4 21.41c.39.39.9.59 1.41.59.51 0 1.02-.2 1.41-.59l7.78-7.78 2.81-2.81c.8-.78.8-2.07 0-2.86zM5.41 20L4 18.59l7.72-7.72 1.47 1.35L5.41 20z\"/>\n",
              "  </svg>\n",
              "      </button>\n",
              "      \n",
              "  <style>\n",
              "    .colab-df-container {\n",
              "      display:flex;\n",
              "      flex-wrap:wrap;\n",
              "      gap: 12px;\n",
              "    }\n",
              "\n",
              "    .colab-df-convert {\n",
              "      background-color: #E8F0FE;\n",
              "      border: none;\n",
              "      border-radius: 50%;\n",
              "      cursor: pointer;\n",
              "      display: none;\n",
              "      fill: #1967D2;\n",
              "      height: 32px;\n",
              "      padding: 0 0 0 0;\n",
              "      width: 32px;\n",
              "    }\n",
              "\n",
              "    .colab-df-convert:hover {\n",
              "      background-color: #E2EBFA;\n",
              "      box-shadow: 0px 1px 2px rgba(60, 64, 67, 0.3), 0px 1px 3px 1px rgba(60, 64, 67, 0.15);\n",
              "      fill: #174EA6;\n",
              "    }\n",
              "\n",
              "    [theme=dark] .colab-df-convert {\n",
              "      background-color: #3B4455;\n",
              "      fill: #D2E3FC;\n",
              "    }\n",
              "\n",
              "    [theme=dark] .colab-df-convert:hover {\n",
              "      background-color: #434B5C;\n",
              "      box-shadow: 0px 1px 3px 1px rgba(0, 0, 0, 0.15);\n",
              "      filter: drop-shadow(0px 1px 2px rgba(0, 0, 0, 0.3));\n",
              "      fill: #FFFFFF;\n",
              "    }\n",
              "  </style>\n",
              "\n",
              "      <script>\n",
              "        const buttonEl =\n",
              "          document.querySelector('#df-a7be3833-2a02-41f2-96df-183ea63648a7 button.colab-df-convert');\n",
              "        buttonEl.style.display =\n",
              "          google.colab.kernel.accessAllowed ? 'block' : 'none';\n",
              "\n",
              "        async function convertToInteractive(key) {\n",
              "          const element = document.querySelector('#df-a7be3833-2a02-41f2-96df-183ea63648a7');\n",
              "          const dataTable =\n",
              "            await google.colab.kernel.invokeFunction('convertToInteractive',\n",
              "                                                     [key], {});\n",
              "          if (!dataTable) return;\n",
              "\n",
              "          const docLinkHtml = 'Like what you see? Visit the ' +\n",
              "            '<a target=\"_blank\" href=https://colab.research.google.com/notebooks/data_table.ipynb>data table notebook</a>'\n",
              "            + ' to learn more about interactive tables.';\n",
              "          element.innerHTML = '';\n",
              "          dataTable['output_type'] = 'display_data';\n",
              "          await google.colab.output.renderOutput(dataTable, element);\n",
              "          const docLink = document.createElement('div');\n",
              "          docLink.innerHTML = docLinkHtml;\n",
              "          element.appendChild(docLink);\n",
              "        }\n",
              "      </script>\n",
              "    </div>\n",
              "  </div>\n",
              "  "
            ]
          },
          "metadata": {},
          "execution_count": 4
        }
      ],
      "source": [
        "# examine the first few rows of data\n",
        "bostondata.head()"
      ]
    },
    {
      "cell_type": "markdown",
      "metadata": {
        "id": "452MBnBnkbWL"
      },
      "source": [
        "### Complete the notebook by adding:\n",
        "1) information on nulls in data<br>\n",
        "2) statistical information on relevant columns<br>\n",
        "3) three different visualizations using seaborn<br>\n",
        "4) final markdown explaining what you have learned about the dataset from the statistical analysis and visualizations<br>\n",
        "\n",
        "NOTE:  you can add additional code and markdown blocks\n"
      ]
    },
    {
      "cell_type": "code",
      "execution_count": 5,
      "metadata": {
        "id": "9B0qBPLDkbWM"
      },
      "outputs": [],
      "source": [
        "#1 information on nulls"
      ]
    },
    {
      "cell_type": "code",
      "source": [
        "#lets add a column - month - and make it numeric\n",
        "# we will use slice\n",
        "\n",
        "#one of the values is not null, but has spaces\n",
        "\n",
        "# change the column type from object to int\n",
        "\n",
        "#lets see info on bostondata\n"
      ],
      "metadata": {
        "id": "Z2UQBMZ5ErVk"
      },
      "execution_count": 8,
      "outputs": []
    },
    {
      "cell_type": "code",
      "source": [
        "# lets get the value counts for our new column\n"
      ],
      "metadata": {
        "id": "TCTOb1koFW0z"
      },
      "execution_count": 9,
      "outputs": []
    },
    {
      "cell_type": "code",
      "execution_count": 11,
      "metadata": {
        "id": "-BdoU2pqkbWN"
      },
      "outputs": [],
      "source": [
        "#2 statistical information - the numerical data does not have relevant business meaning although lat and long do show an average location\n",
        "\n"
      ]
    },
    {
      "cell_type": "code",
      "source": [
        "#2 statistical information\n",
        "#lets see the counts of the categories in certain columns\n",
        "#we will start with description\n",
        "\n"
      ],
      "metadata": {
        "id": "EVc7XgJRrcK2"
      },
      "execution_count": 13,
      "outputs": []
    },
    {
      "cell_type": "code",
      "source": [
        "#2 statistical information\n",
        "# we can see the percentages\n",
        "\n",
        "#top at six which are of interest"
      ],
      "metadata": {
        "id": "Vkbn013Rr9xz"
      },
      "execution_count": 6,
      "outputs": []
    },
    {
      "cell_type": "code",
      "source": [
        "#bostondata_filtered = bostondata.query(\"description == 'Unsafe and Dangerous' |  description == 'Maintenance' | description = 'Failure to Obtain Permit'\")\n",
        "bostondata_filtered = bostondata[(bostondata.description == 'Unsafe and Dangerous') | (bostondata.description == 'Maintenance') | (bostondata.description == 'Failure to Obtain Permit')]"
      ],
      "metadata": {
        "id": "sQyJR5m_QjQe"
      },
      "execution_count": null,
      "outputs": []
    },
    {
      "cell_type": "code",
      "source": [
        "bostondata_filtered.info()\n",
        "#we are down to 7594 entries and can now learn more about this one category"
      ],
      "metadata": {
        "id": "2zb4DeBduI58"
      },
      "execution_count": 14,
      "outputs": []
    },
    {
      "cell_type": "markdown",
      "source": [
        "Visualizatoins - suggestions are given for possible visualizations, you can get creative and add your own"
      ],
      "metadata": {
        "id": "VW69rZOIReew"
      }
    },
    {
      "cell_type": "code",
      "source": [
        "#3 seaborn viz 1\n",
        "# value counts can be useful\n",
        "#lets look at the value counts by city and street\n"
      ],
      "metadata": {
        "id": "P1cCrxR2pbkh"
      },
      "execution_count": 15,
      "outputs": []
    },
    {
      "cell_type": "code",
      "execution_count": 16,
      "metadata": {
        "id": "Rhvko7lSkbWP"
      },
      "outputs": [],
      "source": [
        "#4 seaborn viz 2\n",
        "# count plots are good for visualizatioin of categorical data\n"
      ]
    },
    {
      "cell_type": "code",
      "source": [
        "#4 seaborn viz 3\n",
        "# count plots are good for visualizatioin of categorical data"
      ],
      "metadata": {
        "id": "f_9TA9heTMcr"
      },
      "execution_count": 17,
      "outputs": []
    },
    {
      "cell_type": "code",
      "execution_count": 18,
      "metadata": {
        "id": "4gg68ytKkbWQ"
      },
      "outputs": [],
      "source": [
        "#5 seaborn viz 4\n"
      ]
    },
    {
      "cell_type": "markdown",
      "metadata": {
        "id": "6sBVB5g4kbWQ"
      },
      "source": [
        "### What have you has been learned from Exploratory Data Analysis\n"
      ]
    },
    {
      "cell_type": "markdown",
      "metadata": {
        "id": "KUUAZGRWkbWR"
      },
      "source": [
        ""
      ]
    }
  ],
  "metadata": {
    "kernelspec": {
      "display_name": "Python 3",
      "language": "python",
      "name": "python3"
    },
    "language_info": {
      "codemirror_mode": {
        "name": "ipython",
        "version": 3
      },
      "file_extension": ".py",
      "mimetype": "text/x-python",
      "name": "python",
      "nbconvert_exporter": "python",
      "pygments_lexer": "ipython3",
      "version": "3.6.5"
    },
    "colab": {
      "name": "ChallengeLabDataViz.ipynb",
      "provenance": []
    }
  },
  "nbformat": 4,
  "nbformat_minor": 0
}